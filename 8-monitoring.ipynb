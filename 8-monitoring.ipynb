{
 "cells": [
  {
   "cell_type": "code",
   "execution_count": 6,
   "metadata": {},
   "outputs": [],
   "source": [
    "from datetime import datetime, timedelta\n",
    "import pandas as pd\n",
    "\n",
    "from src.component.monitoring import load_predictions_and_actual_values_from_store\n",
    "\n"
   ]
  },
  {
   "cell_type": "code",
   "execution_count": 7,
   "metadata": {},
   "outputs": [
    {
     "name": "stderr",
     "output_type": "stream",
     "text": [
      "DeprecationWarning: datetime.datetime.utcnow() is deprecated and scheduled for removal in a future version. Use timezone-aware objects to represent datetimes in UTC: datetime.datetime.now(datetime.UTC).\n"
     ]
    },
    {
     "data": {
      "text/plain": [
       "Timestamp('2025-02-04 17:00:00+0000', tz='UTC')"
      ]
     },
     "execution_count": 7,
     "metadata": {},
     "output_type": "execute_result"
    }
   ],
   "source": [
    "\n",
    "current_date = pd.to_datetime(datetime.utcnow(), utc=True).floor('H')\n",
    "current_date"
   ]
  },
  {
   "cell_type": "code",
   "execution_count": 8,
   "metadata": {},
   "outputs": [
    {
     "name": "stdout",
     "output_type": "stream",
     "text": [
      "2025-01-21 17:00:00+00:00\n",
      "2025-02-04 17:00:00+00:00\n",
      "2025-02-04 17:12:13,742 INFO: Closing external client and cleaning up certificates.\n",
      "Connection closed.\n",
      "2025-02-04 17:12:13,746 INFO: Initializing external client\n",
      "2025-02-04 17:12:13,746 INFO: Base URL: https://c.app.hopsworks.ai:443\n",
      "2025-02-04 17:12:14,760 INFO: Python Engine initialized.\n",
      "\n",
      "Logged in to project, explore it here https://c.app.hopsworks.ai:443/p/1212591\n",
      "2025-02-04 17:12:16,146 INFO: Closing external client and cleaning up certificates.\n",
      "Connection closed.\n",
      "2025-02-04 17:12:16,150 INFO: Initializing external client\n",
      "2025-02-04 17:12:16,151 INFO: Base URL: https://c.app.hopsworks.ai:443\n",
      "2025-02-04 17:12:17,054 INFO: Python Engine initialized.\n",
      "\n",
      "Logged in to project, explore it here https://c.app.hopsworks.ai:443/p/1212591\n",
      "2025-02-04 17:12:18,410 INFO: Closing external client and cleaning up certificates.\n",
      "Connection closed.\n",
      "2025-02-04 17:12:18,418 INFO: Initializing external client\n",
      "2025-02-04 17:12:18,419 INFO: Base URL: https://c.app.hopsworks.ai:443\n",
      "2025-02-04 17:12:19,311 INFO: Python Engine initialized.\n",
      "\n",
      "Logged in to project, explore it here https://c.app.hopsworks.ai:443/p/1212591\n",
      "2025-02-04 17:12:21,532 INFO: Feature view already existed. Skipping creation.\n",
      "Finished: Reading data from Hopsworks, using Hopsworks Feature Query Service (1.04s) \n",
      "Finished: Reading data from Hopsworks, using Hopsworks Feature Query Service (1.10s) \n",
      "Latest data in Feature View: 2025-02-04 16:00:00+00:00\n"
     ]
    }
   ],
   "source": [
    "monitoring_df = load_predictions_and_actual_values_from_store(\n",
    "        from_date=current_date - timedelta(days=14),\n",
    "        to_date=current_date\n",
    "    )"
   ]
  },
  {
   "cell_type": "code",
   "execution_count": 9,
   "metadata": {},
   "outputs": [
    {
     "data": {
      "text/html": [
       "<div>\n",
       "<style scoped>\n",
       "    .dataframe tbody tr th:only-of-type {\n",
       "        vertical-align: middle;\n",
       "    }\n",
       "\n",
       "    .dataframe tbody tr th {\n",
       "        vertical-align: top;\n",
       "    }\n",
       "\n",
       "    .dataframe thead th {\n",
       "        text-align: right;\n",
       "    }\n",
       "</style>\n",
       "<table border=\"1\" class=\"dataframe\">\n",
       "  <thead>\n",
       "    <tr style=\"text-align: right;\">\n",
       "      <th></th>\n",
       "      <th>sub_region_code</th>\n",
       "      <th>predicted_demand</th>\n",
       "      <th>date</th>\n",
       "      <th>actuals_sub_region_code</th>\n",
       "      <th>actuals_date</th>\n",
       "      <th>actuals_demand</th>\n",
       "    </tr>\n",
       "  </thead>\n",
       "  <tbody>\n",
       "    <tr>\n",
       "      <th>0</th>\n",
       "      <td>8</td>\n",
       "      <td>630.0</td>\n",
       "      <td>2025-02-02 23:00:00+00:00</td>\n",
       "      <td>8</td>\n",
       "      <td>2025-02-02 23:00:00+00:00</td>\n",
       "      <td>662</td>\n",
       "    </tr>\n",
       "    <tr>\n",
       "      <th>1</th>\n",
       "      <td>4</td>\n",
       "      <td>947.0</td>\n",
       "      <td>2025-02-03 00:00:00+00:00</td>\n",
       "      <td>4</td>\n",
       "      <td>2025-02-03 00:00:00+00:00</td>\n",
       "      <td>1002</td>\n",
       "    </tr>\n",
       "    <tr>\n",
       "      <th>2</th>\n",
       "      <td>10</td>\n",
       "      <td>1862.0</td>\n",
       "      <td>2025-02-03 10:00:00+00:00</td>\n",
       "      <td>10</td>\n",
       "      <td>2025-02-03 10:00:00+00:00</td>\n",
       "      <td>1856</td>\n",
       "    </tr>\n",
       "    <tr>\n",
       "      <th>3</th>\n",
       "      <td>3</td>\n",
       "      <td>714.0</td>\n",
       "      <td>2025-02-03 17:00:00+00:00</td>\n",
       "      <td>3</td>\n",
       "      <td>2025-02-03 17:00:00+00:00</td>\n",
       "      <td>712</td>\n",
       "    </tr>\n",
       "    <tr>\n",
       "      <th>4</th>\n",
       "      <td>6</td>\n",
       "      <td>926.0</td>\n",
       "      <td>2025-02-03 17:00:00+00:00</td>\n",
       "      <td>6</td>\n",
       "      <td>2025-02-03 17:00:00+00:00</td>\n",
       "      <td>849</td>\n",
       "    </tr>\n",
       "    <tr>\n",
       "      <th>...</th>\n",
       "      <td>...</td>\n",
       "      <td>...</td>\n",
       "      <td>...</td>\n",
       "      <td>...</td>\n",
       "      <td>...</td>\n",
       "      <td>...</td>\n",
       "    </tr>\n",
       "    <tr>\n",
       "      <th>303</th>\n",
       "      <td>6</td>\n",
       "      <td>857.0</td>\n",
       "      <td>2025-02-04 10:00:00+00:00</td>\n",
       "      <td>6</td>\n",
       "      <td>2025-02-04 10:00:00+00:00</td>\n",
       "      <td>1042</td>\n",
       "    </tr>\n",
       "    <tr>\n",
       "      <th>304</th>\n",
       "      <td>8</td>\n",
       "      <td>624.0</td>\n",
       "      <td>2025-02-04 11:00:00+00:00</td>\n",
       "      <td>8</td>\n",
       "      <td>2025-02-04 11:00:00+00:00</td>\n",
       "      <td>579</td>\n",
       "    </tr>\n",
       "    <tr>\n",
       "      <th>305</th>\n",
       "      <td>2</td>\n",
       "      <td>1629.0</td>\n",
       "      <td>2025-02-04 13:00:00+00:00</td>\n",
       "      <td>2</td>\n",
       "      <td>2025-02-04 13:00:00+00:00</td>\n",
       "      <td>2144</td>\n",
       "    </tr>\n",
       "    <tr>\n",
       "      <th>306</th>\n",
       "      <td>0</td>\n",
       "      <td>1997.0</td>\n",
       "      <td>2025-02-04 15:00:00+00:00</td>\n",
       "      <td>0</td>\n",
       "      <td>2025-02-04 15:00:00+00:00</td>\n",
       "      <td>1911</td>\n",
       "    </tr>\n",
       "    <tr>\n",
       "      <th>307</th>\n",
       "      <td>2</td>\n",
       "      <td>1971.0</td>\n",
       "      <td>2025-02-04 16:00:00+00:00</td>\n",
       "      <td>2</td>\n",
       "      <td>2025-02-04 16:00:00+00:00</td>\n",
       "      <td>1642</td>\n",
       "    </tr>\n",
       "  </tbody>\n",
       "</table>\n",
       "<p>308 rows × 6 columns</p>\n",
       "</div>"
      ],
      "text/plain": [
       "     sub_region_code  predicted_demand                      date  \\\n",
       "0                  8             630.0 2025-02-02 23:00:00+00:00   \n",
       "1                  4             947.0 2025-02-03 00:00:00+00:00   \n",
       "2                 10            1862.0 2025-02-03 10:00:00+00:00   \n",
       "3                  3             714.0 2025-02-03 17:00:00+00:00   \n",
       "4                  6             926.0 2025-02-03 17:00:00+00:00   \n",
       "..               ...               ...                       ...   \n",
       "303                6             857.0 2025-02-04 10:00:00+00:00   \n",
       "304                8             624.0 2025-02-04 11:00:00+00:00   \n",
       "305                2            1629.0 2025-02-04 13:00:00+00:00   \n",
       "306                0            1997.0 2025-02-04 15:00:00+00:00   \n",
       "307                2            1971.0 2025-02-04 16:00:00+00:00   \n",
       "\n",
       "     actuals_sub_region_code              actuals_date actuals_demand  \n",
       "0                          8 2025-02-02 23:00:00+00:00            662  \n",
       "1                          4 2025-02-03 00:00:00+00:00           1002  \n",
       "2                         10 2025-02-03 10:00:00+00:00           1856  \n",
       "3                          3 2025-02-03 17:00:00+00:00            712  \n",
       "4                          6 2025-02-03 17:00:00+00:00            849  \n",
       "..                       ...                       ...            ...  \n",
       "303                        6 2025-02-04 10:00:00+00:00           1042  \n",
       "304                        8 2025-02-04 11:00:00+00:00            579  \n",
       "305                        2 2025-02-04 13:00:00+00:00           2144  \n",
       "306                        0 2025-02-04 15:00:00+00:00           1911  \n",
       "307                        2 2025-02-04 16:00:00+00:00           1642  \n",
       "\n",
       "[308 rows x 6 columns]"
      ]
     },
     "execution_count": 9,
     "metadata": {},
     "output_type": "execute_result"
    }
   ],
   "source": [
    "monitoring_df"
   ]
  },
  {
   "cell_type": "code",
   "execution_count": null,
   "metadata": {},
   "outputs": [],
   "source": []
  },
  {
   "cell_type": "code",
   "execution_count": null,
   "metadata": {},
   "outputs": [],
   "source": []
  }
 ],
 "metadata": {
  "kernelspec": {
   "display_name": "src-o1faXYQI-py3.12",
   "language": "python",
   "name": "python3"
  },
  "language_info": {
   "codemirror_mode": {
    "name": "ipython",
    "version": 3
   },
   "file_extension": ".py",
   "mimetype": "text/x-python",
   "name": "python",
   "nbconvert_exporter": "python",
   "pygments_lexer": "ipython3",
   "version": "3.12.1"
  }
 },
 "nbformat": 4,
 "nbformat_minor": 2
}
